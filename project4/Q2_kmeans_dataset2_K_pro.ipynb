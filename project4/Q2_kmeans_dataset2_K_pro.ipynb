{
 "cells": [
  {
   "cell_type": "code",
   "execution_count": 1,
   "metadata": {},
   "outputs": [],
   "source": [
    "# Importing the libraries\n",
    "%matplotlib inline\n",
    "from copy import deepcopy\n",
    "import numpy as np\n",
    "import matplotlib.pyplot as plt\n",
    "import pandas as pd\n",
    "import random\n",
    "plt.style.use('ggplot')\n",
    "\n",
    "# Importing the dataset (concentric circles datasets)\n",
    "dataset = pd.read_csv('dataset2.csv')\n",
    "dataset.head()\n",
    "X = dataset.iloc[:, 1].values\n",
    "y = dataset.iloc[:, 2].values"
   ]
  },
  {
   "cell_type": "code",
   "execution_count": 2,
   "metadata": {},
   "outputs": [
    {
     "data": {
      "image/png": "[encoded data removed]",
      "text/plain": [
       "<matplotlib.figure.Figure at 0x22d2910c048>"
      ]
     },
     "metadata": {},
     "output_type": "display_data"
    }
   ],
   "source": [
    "# plotting the dataset\n",
    "data = np.array(list(zip(X, y)))\n",
    "plt.scatter(X, y, c='black', s=7)\n",
    "plt.show()"
   ]
  },
  {
   "cell_type": "code",
   "execution_count": 3,
   "metadata": {},
   "outputs": [],
   "source": [
    "# defining the reasonable vraince value for rbf kernel\n",
    "var = 0.26\n",
    "\n",
    "# kernelized k-means using rbf kernel\n",
    "def RbfKernel(data1, data2, sigma):\n",
    "    squaredEuclidean = np.linalg.norm(data1 - data2)\n",
    "    result = np.exp(-(squaredEuclidean)/(2*sigma**2))\n",
    "    return result\n",
    "\n",
    "# calculating the third term of the equation of part(iv)\n",
    "def thirdTerm(memberCluster, Z1):\n",
    "    zkj = 0\n",
    "    zmj = 0\n",
    "\n",
    "    term3 = [[0],[0]]\n",
    "    for i in range(0, memberCluster.shape[0]):\n",
    "        zkj = zkj + Z1[i][0]\n",
    "        for j in range(0, memberCluster.shape[0]):\n",
    "            term3[0][0] = term3[0][0] + RbfKernel(memberCluster[i, :], memberCluster[j, :], var)*Z1[i][0]*Z1[j][0]\n",
    "            term3[1][0] = term3[1][0] + RbfKernel(memberCluster[i, :], memberCluster[j, :], var)*Z1[i][1]*Z1[j][1]\n",
    "            \n",
    "    term3[0][0] = term3[0][0] / (zkj ** 2)\n",
    "    term3[1][0] = term3[1][0] / ((100-zkj) ** 2)\n",
    "    \n",
    "    return term3\n",
    "\n",
    "# calculating the sencond term of the equation of part(iv)\n",
    "def secondTerm(dataI, memberCluster, Z2):\n",
    "    zkj = 0\n",
    "    term2 = [[0],[0]]\n",
    "    for i in range(0, memberCluster.shape[0]):\n",
    "        zkj = zkj + Z2[i][0]\n",
    "        term2[0][0] = term2[0][0] + RbfKernel(dataI, memberCluster[i, :], var)*Z2[i][0]\n",
    "        term2[1][0] = term2[1][0] + RbfKernel(dataI, memberCluster[i, :], var)*Z2[i][1]\n",
    "        \n",
    "    term2[0][0] = 2 * term2[0][0] / zkj\n",
    "    term2[1][0] = 2 * term2[1][0] / (100-zkj)\n",
    "\n",
    "    return term2"
   ]
  },
  {
   "cell_type": "code",
   "execution_count": 62,
   "metadata": {},
   "outputs": [],
   "source": [
    "# randomly initializing the Z value\n",
    "Z_list = []\n",
    "for i in range (len(data)):\n",
    "    m = random.randint(0,1)\n",
    "    Z_list.append([m ,1-m])\n",
    "    \n",
    "Z_pre=[]\n",
    "for i in range (len(data)):\n",
    "    m = random.randint(0,1)\n",
    "    Z_pre.append([m ,1-m])\n",
    "    \n",
    "distances = [[0],[0]]\n",
    "\n",
    "# comparing and updating the Z value, breaks when previous Z equals to the current one\n",
    "while True:\n",
    "    \n",
    "    term3 = thirdTerm(data, Z_list)\n",
    "    for i in range(len(data)):\n",
    "        \n",
    "        distances[0][0] = RbfKernel(data[i], data[i], var) - secondTerm(data[i], data, Z_list)[0][0] + term3[0][0]\n",
    "        distances[1][0] = RbfKernel(data[i], data[i], var) - secondTerm(data[i], data, Z_list)[1][0] + term3[1][0]\n",
    "            \n",
    "        if distances[0][0] < distances[1][0]:\n",
    "            Z_list[i][0] = 1\n",
    "            Z_list[i][1] = 0\n",
    "        else :\n",
    "            Z_list[i][0] = 0\n",
    "            Z_list[i][1] = 1\n",
    "    \n",
    "    if Z_pre==Z_list:\n",
    "        break\n",
    "\n",
    "    for i in range(len(Z_list)):\n",
    "        Z_pre[i][0] = Z_list[i][0]\n",
    "        Z_pre[i][1] = Z_list[i][1]"
   ]
  },
  {
   "cell_type": "code",
   "execution_count": 63,
   "metadata": {},
   "outputs": [
    {
     "data": {
      "image/png": "[encoded data removed]",
      "text/plain": [
       "<matplotlib.figure.Figure at 0x22d3ae43a58>"
      ]
     },
     "metadata": {},
     "output_type": "display_data"
    }
   ],
   "source": [
    "# setting the number of clusters\n",
    "k=2\n",
    "# plotting out the results\n",
    "colors = ['r', 'g', 'b', 'y', 'c', 'm']\n",
    "fig, ax = plt.subplots()\n",
    "for i in range(k):\n",
    "        points = np.array([data[j] for j in range(len(data)) if Z_list[j][0] == i])\n",
    "        ax.scatter(points[:, 0], points[:, 1], s=7, c=colors[i])\n",
    "plt.show()"
   ]
  },
  {
   "cell_type": "code",
   "execution_count": null,
   "metadata": {},
   "outputs": [],
   "source": []
  }
 ],
 "metadata": {
  "kernelspec": {
   "display_name": "Python 3",
   "language": "python",
   "name": "python3"
  },
  "language_info": {
   "codemirror_mode": {
    "name": "ipython",
    "version": 3
   },
   "file_extension": ".py",
   "mimetype": "text/x-python",
   "name": "python",
   "nbconvert_exporter": "python",
   "pygments_lexer": "ipython3",
   "version": "3.6.5"
  }
 },
 "nbformat": 4,
 "nbformat_minor": 2
}
