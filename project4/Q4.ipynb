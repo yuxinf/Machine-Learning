{
 "cells": [
  {
   "cell_type": "code",
   "execution_count": 3,
   "metadata": {},
   "outputs": [
    {
     "data": {
      "image/png": "[encoded data removed]",
      "text/plain": [
       "<matplotlib.figure.Figure at 0x1708a37d278>"
      ]
     },
     "metadata": {},
     "output_type": "display_data"
    },
    {
     "name": "stdout",
     "output_type": "stream",
     "text": [
      "1. New D is:\n",
      "[[   0  213  451 1471  975 2936 3115 2981 1938]\n",
      " [ 213    0  239 1305  792 2809 2947 2797 1763]\n",
      " [ 451  239    0 1106  653 2723 2801 2628 1614]\n",
      " [1471 1305 1106    0 1373 3246 3037 2739 1984]\n",
      " [ 975  792  653 1373    0 2080 2156 2006  970]\n",
      " [2936 2809 2723 3246 2080    0  815 1138 1263]\n",
      " [3115 2947 2801 3037 2156  815    0  398 1187]\n",
      " [2981 2797 2628 2739 2006 1138  398    0 1053]\n",
      " [1938 1763 1614 1984  970 1263 1187 1053    0]]\n",
      "2. The discrepancy is: 56374.0880026033\n",
      "As can be seen, the estimated positions of these cities seem to have nearly same relative position as the actual geographical locations. However, they are still not the exact relative distance as shown in the matrix, which is because of the rough distance data given, and maybe the difference between a plane (the way we assume the question) and a spherical surface (actual situation)\n"
     ]
    }
   ],
   "source": [
    "import numpy\n",
    "import random\n",
    "import matplotlib.pyplot as plt\n",
    "\n",
    "def initial_embbed():\n",
    "    D=numpy.array([[0,206,429,1504,963,2976,3095,2979,1949],[206,0,233,1308,802,2815,2934,2786,1771],[429,233,0,1075,671,2684,2799,2631,1616],[1504,1308,1075,0,1329,3273,3053,2687,2037],[963,802,671,1329,0,2013,2142,2054,996],[2976,2815,2684,3273,2013,0,808,1131,1307],[3095,2934,2799,3053,2142,808,0,379,1235],[2979,2786,2631,2687,2054,1131,379,0,1059],[1949,1771,1616,2037,996,1307,1235,1059,0]])\n",
    "    Position=numpy.zeros((9,2))\n",
    "    Position[1][0]=D[1][0]\n",
    "    for i in range(2,9):\n",
    "        R=D[i][0]\n",
    "        curr_edf=999999999999999\n",
    "        for j in range(500):\n",
    "            theta=2*numpy.pi*random.random()\n",
    "            lat=numpy.sin(theta)*R\n",
    "            lon=numpy.cos(theta)*R\n",
    "            temp_position=Position[:i+1].copy()\n",
    "            temp_position[i]=(lat,lon)\n",
    "            temp_edf=discrepancy(temp_position)\n",
    "            if temp_edf < curr_edf:\n",
    "                curr_edf=temp_edf\n",
    "                Position[i]=(lat,lon)\n",
    "    return Position\n",
    "\n",
    "def one_step_optimization(position):\n",
    "    D=numpy.array([[0,206,429,1504,963,2976,3095,2979,1949],[206,0,233,1308,802,2815,2934,2786,1771],[429,233,0,1075,671,2684,2799,2631,1616],[1504,1308,1075,0,1329,3273,3053,2687,2037],[963,802,671,1329,0,2013,2142,2054,996],[2976,2815,2684,3273,2013,0,808,1131,1307],[3095,2934,2799,3053,2142,808,0,379,1235],[2979,2786,2631,2687,2054,1131,379,0,1059],[1949,1771,1616,2037,996,1307,1235,1059,0]])\n",
    "    gradient=numpy.zeros((9,2))\n",
    "    for i in range(9):\n",
    "        for j in range(2):\n",
    "            derivative=0\n",
    "            for k in range(9):\n",
    "                if k!=i:\n",
    "                    derivative+=2*(numpy.linalg.norm(position[i]-position[k])-D[i][k])*(1/numpy.linalg.norm(position[i]-position[k]))*(position[i][j]-position[k][j])\n",
    "            gradient[i][j]=-derivative\n",
    "    return gradient/10\n",
    "\n",
    "def discrepancy(position):\n",
    "    D=numpy.array([[0,206,429,1504,963,2976,3095,2979,1949],[206,0,233,1308,802,2815,2934,2786,1771],[429,233,0,1075,671,2684,2799,2631,1616],[1504,1308,1075,0,1329,3273,3053,2687,2037],[963,802,671,1329,0,2013,2142,2054,996],[2976,2815,2684,3273,2013,0,808,1131,1307],[3095,2934,2799,3053,2142,808,0,379,1235],[2979,2786,2631,2687,2054,1131,379,0,1059],[1949,1771,1616,2037,996,1307,1235,1059,0]])\n",
    "    num=position.shape[0]\n",
    "    value=0\n",
    "    for i in range(num):\n",
    "        for j in range(num):\n",
    "            value=value+(numpy.linalg.norm(position[i]-position[j])-D[i][j])**2\n",
    "    return value\n",
    "\n",
    "def FindD(Position):\n",
    "    new_D=numpy.zeros((9,9),dtype=\"uint16\")\n",
    "    for i in range(9):\n",
    "        for j in range(9):\n",
    "            new_D[i][j]=numpy.linalg.norm(Position[i]-Position[j])\n",
    "    return new_D\n",
    "\n",
    "if __name__ == \"__main__\":\n",
    "    cities=['BOS','NYC','DC','MIA','CHI','SEA','SF','LA','DEN']\n",
    "    position=initial_embbed()\n",
    "    for i in range(500):\n",
    "        position=position+one_step_optimization(position)\n",
    "    plt.figure(figsize=(6,6))\n",
    "    plt.plot(position[:,0],position[:,1],'rx')\n",
    "    for i in range(9):\n",
    "        plt.annotate(cities[i], xy=position[i], xytext=(position[i][0]-70,position[i][1]-150))\n",
    "    plt.show()\n",
    "    print('1. New D is:')\n",
    "    print(FindD(position))\n",
    "    print('2. The discrepancy is:',discrepancy(position))\n",
    "    print('As can be seen, the estimated positions of these cities seem to have nearly same relative position as the actual geographical locations. However, they are still not the exact relative distance as shown in the matrix, which is because of the rough distance data given, and maybe the difference between a plane (the way we assume the question) and a spherical surface (actual situation)')"
   ]
  },
  {
   "cell_type": "code",
   "execution_count": null,
   "metadata": {},
   "outputs": [],
   "source": []
  }
 ],
 "metadata": {
  "kernelspec": {
   "display_name": "Python 3",
   "language": "python",
   "name": "python3"
  },
  "language_info": {
   "codemirror_mode": {
    "name": "ipython",
    "version": 3
   },
   "file_extension": ".py",
   "mimetype": "text/x-python",
   "name": "python",
   "nbconvert_exporter": "python",
   "pygments_lexer": "ipython3",
   "version": "3.6.5"
  }
 },
 "nbformat": 4,
 "nbformat_minor": 2
}
