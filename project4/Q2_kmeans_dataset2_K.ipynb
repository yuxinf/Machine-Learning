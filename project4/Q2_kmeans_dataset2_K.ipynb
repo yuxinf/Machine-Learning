{
 "cells": [
  {
   "cell_type": "code",
   "execution_count": 2,
   "metadata": {},
   "outputs": [
    {
     "name": "stdout",
     "output_type": "stream",
     "text": [
      "(100, 3)\n"
     ]
    }
   ],
   "source": [
    "# Importing the libraries\n",
    "%matplotlib inline\n",
    "from copy import deepcopy\n",
    "import numpy as np\n",
    "import matplotlib.pyplot as plt\n",
    "import pandas as pd\n",
    "plt.style.use('ggplot')\n",
    "\n",
    "# Importing the dataset\n",
    "dataset = pd.read_csv('dataset2.csv')\n",
    "print(dataset.shape)\n",
    "dataset.head()\n",
    "X = dataset.iloc[:, 1].values\n",
    "y = dataset.iloc[:, 2].values"
   ]
  },
  {
   "cell_type": "code",
   "execution_count": 3,
   "metadata": {},
   "outputs": [
    {
     "data": {
      "image/png": "[encoded data removed]",
      "text/plain": [
       "<matplotlib.figure.Figure at 0x175e4d9ef60>"
      ]
     },
     "metadata": {},
     "output_type": "display_data"
    }
   ],
   "source": [
    "data = np.array(list(zip(X, y)))\n",
    "plt.scatter(X, y, c='black', s=7)\n",
    "plt.show()\n",
    "\n",
    "Z = np.zeros(len(data))"
   ]
  },
  {
   "cell_type": "code",
   "execution_count": 46,
   "metadata": {},
   "outputs": [
    {
     "name": "stdout",
     "output_type": "stream",
     "text": [
      "[[1, 0], [1, 0], [0, 1], [1, 0], [0, 1], [1, 0], [0, 1], [1, 0], [1, 0], [0, 1], [1, 0], [1, 0], [1, 0], [0, 1], [0, 1], [0, 1], [0, 1], [1, 0], [0, 1], [0, 1], [1, 0], [1, 0], [0, 1], [0, 1], [1, 0], [1, 0], [1, 0], [0, 1], [0, 1], [1, 0], [1, 0], [0, 1], [1, 0], [0, 1], [0, 1], [1, 0], [1, 0], [0, 1], [0, 1], [0, 1], [0, 1], [0, 1], [1, 0], [0, 1], [1, 0], [1, 0], [0, 1], [1, 0], [0, 1], [1, 0], [0, 1], [0, 1], [1, 0], [0, 1], [1, 0], [1, 0], [1, 0], [0, 1], [0, 1], [1, 0], [1, 0], [0, 1], [0, 1], [1, 0], [1, 0], [1, 0], [0, 1], [1, 0], [0, 1], [0, 1], [0, 1], [0, 1], [1, 0], [1, 0], [1, 0], [1, 0], [1, 0], [0, 1], [1, 0], [0, 1], [1, 0], [1, 0], [0, 1], [1, 0], [0, 1], [1, 0], [1, 0], [1, 0], [1, 0], [1, 0], [1, 0], [0, 1], [0, 1], [1, 0], [0, 1], [0, 1], [0, 1], [0, 1], [1, 0], [1, 0]]\n"
     ]
    }
   ],
   "source": [
    "import random\n",
    "Z_list = []\n",
    "for i in range (len(data)):\n",
    "    m = random.randint(0,1)\n",
    "    Z_list.append([m ,1-m])\n",
    "    \n",
    "print(Z_list)"
   ]
  },
  {
   "cell_type": "code",
   "execution_count": 47,
   "metadata": {},
   "outputs": [],
   "source": [
    "var = 0.5\n",
    "\n",
    "def RbfKernel(data1, data2, sigma):\n",
    "    squaredEuclidean = np.linalg.norm(data1 - data2)\n",
    "    result = np.exp(-(squaredEuclidean)/(2*sigma**2))\n",
    "    return result\n",
    "\n",
    "\n",
    "def thirdTerm(memberCluster, Z1):\n",
    "    zkj = 0\n",
    "    zmj = 0\n",
    "    term3 = [[0],[0]]\n",
    "    for i in range(0, memberCluster.shape[0]):\n",
    "        zkj = zkj + Z1[i][0]\n",
    "        for j in range(0, memberCluster.shape[0]):\n",
    "\n",
    "            term3[0][0] = term3[0][0] + RbfKernel(memberCluster[i, :], memberCluster[j, :], var)*Z1[i][0]*Z1[j][0]\n",
    "            term3[1][0] = term3[1][0] + RbfKernel(memberCluster[i, :], memberCluster[j, :], var)*Z1[i][1]*Z1[j][1]\n",
    "            \n",
    "    term3[0][0] = term3[0][0] / (zkj ** 2)\n",
    "    term3[1][0] = term3[1][0] / ((zkj-100) ** 2)\n",
    "    \n",
    "    return term3\n",
    "\n",
    "\n",
    "def secondTerm(dataI, memberCluster, Z2):\n",
    "    zkj = 0\n",
    "    term2 = [[0],[0]]\n",
    "    for i in range(0, memberCluster.shape[0]):\n",
    "        zkj = zkj + Z2[i][0]\n",
    "        term2[0][0] = term2[0][0] + RbfKernel(dataI, memberCluster[i, :], var)*Z2[i][0]\n",
    "        term2[1][0] = term2[1][0] + RbfKernel(dataI, memberCluster[i, :], var)*Z2[i][1]\n",
    "        \n",
    "    term2[0][0] = 2 * term2[0][0] / zkj\n",
    "    term2[1][0] = 2 * term2[1][0] / (100-zkj)\n",
    "\n",
    "    return term2"
   ]
  },
  {
   "cell_type": "code",
   "execution_count": 26,
   "metadata": {},
   "outputs": [
    {
     "name": "stdout",
     "output_type": "stream",
     "text": [
      "1.0\n"
     ]
    }
   ],
   "source": [
    "for i in range(len(data)):\n",
    "        distances = RbfKernel(data[i], data[i], var)\n",
    "        \n",
    "print(distances)"
   ]
  },
  {
   "cell_type": "code",
   "execution_count": 27,
   "metadata": {},
   "outputs": [
    {
     "name": "stdout",
     "output_type": "stream",
     "text": [
      "[[1.9499653428320887], [1.3541101398153816]]\n"
     ]
    }
   ],
   "source": [
    "for i in range(len(data)):\n",
    "        QQ = secondTerm(data[i], data, Z_list)\n",
    "        #print(QQ)\n",
    "print(QQ)"
   ]
  },
  {
   "cell_type": "code",
   "execution_count": 49,
   "metadata": {},
   "outputs": [
    {
     "name": "stdout",
     "output_type": "stream",
     "text": [
      "[[0.9755855566657357], [0.8310539406033304]]\n"
     ]
    }
   ],
   "source": [
    "Z_test=np.ones(len(data))\n",
    "test = thirdTerm(data, Z_list)\n",
    "\n",
    "print(test)"
   ]
  },
  {
   "cell_type": "code",
   "execution_count": 59,
   "metadata": {},
   "outputs": [
    {
     "name": "stdout",
     "output_type": "stream",
     "text": [
      "[[0.015656105407898524], [1.8310539406033304]]\n",
      "1\n",
      "[[0.03517702813170276], [1.8310539406033304]]\n",
      "1\n",
      "[[0.01742726779182835], [1.8310539406033304]]\n",
      "1\n",
      "[[0.03439456821073139], [1.8310539406033304]]\n",
      "1\n",
      "[[0.02792770194395211], [1.8310539406033304]]\n",
      "1\n",
      "[[0.025154942101487165], [1.8310539406033304]]\n",
      "1\n",
      "[[0.018361026870754804], [1.8310539406033304]]\n",
      "1\n",
      "[[0.03486505230155412], [1.8310539406033304]]\n",
      "1\n",
      "[[0.016134526119818915], [1.8310539406033304]]\n",
      "1\n",
      "[[0.0163667788465105], [1.8310539406033304]]\n",
      "1\n",
      "[[0.015358760391477544], [1.8310539406033304]]\n",
      "1\n",
      "[[0.032031514547718576], [1.8310539406033304]]\n",
      "1\n",
      "[[0.03346630358312441], [1.8310539406033304]]\n",
      "1\n",
      "[[0.01725266227621791], [1.8310539406033304]]\n",
      "1\n",
      "[[0.028810293805740628], [1.8310539406033304]]\n",
      "1\n",
      "[[0.03673825955711352], [1.8310539406033304]]\n",
      "1\n",
      "[[0.01426940258897047], [1.8310539406033304]]\n",
      "1\n",
      "[[0.02578338144941905], [1.8310539406033304]]\n",
      "1\n",
      "[[0.028160201624654935], [1.8310539406033304]]\n",
      "1\n",
      "[[0.023917878409724258], [1.8310539406033304]]\n",
      "1\n",
      "[[0.02399955454080871], [1.8310539406033304]]\n",
      "1\n",
      "[[0.03492279621449201], [1.8310539406033304]]\n",
      "1\n",
      "[[0.037083596511159334], [1.8310539406033304]]\n",
      "1\n",
      "[[0.028100464162953642], [1.8310539406033304]]\n",
      "1\n",
      "[[0.016479268935560176], [1.8310539406033304]]\n",
      "1\n",
      "[[0.015894867305362048], [1.8310539406033304]]\n",
      "1\n",
      "[[0.02065948745176538], [1.8310539406033304]]\n",
      "1\n",
      "[[0.016605302358009055], [1.8310539406033304]]\n",
      "1\n",
      "[[0.01904916034241899], [1.8310539406033304]]\n",
      "1\n",
      "[[0.034455485171013045], [1.8310539406033304]]\n",
      "1\n",
      "[[0.019756308014031054], [1.8310539406033304]]\n",
      "1\n",
      "[[0.03744320139792978], [1.8310539406033304]]\n",
      "1\n",
      "[[0.036859768973128704], [1.8310539406033304]]\n",
      "1\n",
      "[[0.020844026680513217], [1.8310539406033304]]\n",
      "1\n",
      "[[0.0223062572062227], [1.8310539406033304]]\n",
      "1\n",
      "[[0.016401850138478613], [1.8310539406033304]]\n",
      "1\n",
      "[[0.01628425468546113], [1.8310539406033304]]\n",
      "1\n",
      "[[0.014477213948627332], [1.8310539406033304]]\n",
      "1\n",
      "[[0.017070159982005784], [1.8310539406033304]]\n",
      "1\n",
      "[[0.017458566068792924], [1.8310539406033304]]\n",
      "1\n",
      "[[0.03598533317034902], [1.8310539406033304]]\n",
      "1\n",
      "[[0.038242453410424426], [1.8310539406033304]]\n",
      "1\n",
      "[[0.038746146187359054], [1.8310539406033304]]\n",
      "1\n",
      "[[0.01424637039529042], [1.8310539406033304]]\n",
      "1\n",
      "[[0.03215579706772553], [1.8310539406033304]]\n",
      "1\n",
      "[[0.01656174547693956], [1.8310539406033304]]\n",
      "1\n",
      "[[0.033404508101874564], [1.8310539406033304]]\n",
      "1\n",
      "[[0.027569221951678324], [1.8310539406033304]]\n",
      "1\n",
      "[[0.028730018011114522], [1.8310539406033304]]\n",
      "1\n",
      "[[0.02008794433611083], [1.8310539406033304]]\n",
      "1\n",
      "[[0.026577852448981476], [1.8310539406033304]]\n",
      "1\n",
      "[[0.018787964093039067], [1.8310539406033304]]\n",
      "1\n",
      "[[0.016457292710518878], [1.8310539406033304]]\n",
      "1\n",
      "[[0.046236591923297876], [1.8310539406033304]]\n",
      "1\n",
      "[[0.022322138874810715], [1.8310539406033304]]\n",
      "1\n",
      "[[0.04034308941212461], [1.8310539406033304]]\n",
      "1\n",
      "[[0.037074637929110255], [1.8310539406033304]]\n",
      "1\n",
      "[[0.02658091678040142], [1.8310539406033304]]\n",
      "1\n",
      "[[0.0295292014336066], [1.8310539406033304]]\n",
      "1\n",
      "[[0.015733654572570366], [1.8310539406033304]]\n",
      "1\n",
      "[[0.017128619921697563], [1.8310539406033304]]\n",
      "1\n",
      "[[0.041827614171112915], [1.8310539406033304]]\n",
      "1\n",
      "[[0.03377008754051869], [1.8310539406033304]]\n",
      "1\n",
      "[[0.02918150050826962], [1.8310539406033304]]\n",
      "1\n",
      "[[0.024622859488798277], [1.8310539406033304]]\n",
      "1\n",
      "[[0.029165917935007446], [1.8310539406033304]]\n",
      "1\n",
      "[[0.022884021739794758], [1.8310539406033304]]\n",
      "1\n",
      "[[0.0283755288688039], [1.8310539406033304]]\n",
      "1\n",
      "[[0.0159627968906213], [1.8310539406033304]]\n",
      "1\n",
      "[[0.02157818913081222], [1.8310539406033304]]\n",
      "1\n",
      "[[0.015552494137792472], [1.8310539406033304]]\n",
      "1\n",
      "[[0.034477449969603], [1.8310539406033304]]\n",
      "1\n",
      "[[0.018451078958475753], [1.8310539406033304]]\n",
      "1\n",
      "[[0.01814381932750586], [1.8310539406033304]]\n",
      "1\n",
      "[[0.01492378321756549], [1.8310539406033304]]\n",
      "1\n",
      "[[0.028148107752517415], [1.8310539406033304]]\n",
      "1\n",
      "[[0.03280163954765447], [1.8310539406033304]]\n",
      "1\n",
      "[[0.01674224505754318], [1.8310539406033304]]\n",
      "1\n",
      "[[0.02101596526162397], [1.8310539406033304]]\n",
      "1\n",
      "[[0.01923633705219885], [1.8310539406033304]]\n",
      "1\n",
      "[[0.03410286618012748], [1.8310539406033304]]\n",
      "1\n",
      "[[0.02757424914666262], [1.8310539406033304]]\n",
      "1\n",
      "[[0.04007885791638488], [1.8310539406033304]]\n",
      "1\n",
      "[[0.03300732750882296], [1.8310539406033304]]\n",
      "1\n",
      "[[0.018061056688690957], [1.8310539406033304]]\n",
      "1\n",
      "[[0.021023041391582842], [1.8310539406033304]]\n",
      "1\n",
      "[[0.01684265671491203], [1.8310539406033304]]\n",
      "1\n",
      "[[0.017151496045021197], [1.8310539406033304]]\n",
      "1\n",
      "[[0.03549159442151839], [1.8310539406033304]]\n",
      "1\n",
      "[[0.038418566123719744], [1.8310539406033304]]\n",
      "1\n",
      "[[0.03623503234929237], [1.8310539406033304]]\n",
      "1\n",
      "[[0.01851449378701142], [1.8310539406033304]]\n",
      "1\n",
      "[[0.022643818330610577], [1.8310539406033304]]\n",
      "1\n",
      "[[0.03647546862283346], [1.8310539406033304]]\n",
      "1\n",
      "[[0.02119490776383004], [1.8310539406033304]]\n",
      "1\n",
      "[[0.01790385897843394], [1.8310539406033304]]\n",
      "1\n",
      "[[0.015089318599905033], [1.8310539406033304]]\n",
      "1\n",
      "[[0.0333198747680854], [1.8310539406033304]]\n",
      "1\n",
      "[[0.01564410521620485], [1.8310539406033304]]\n",
      "1\n",
      "[[0.02618102190372884], [1.8310539406033304]]\n",
      "1\n"
     ]
    }
   ],
   "source": [
    "Z_test=np.ones(len(data))\n",
    "distances = [[0],[0]]\n",
    "for i in range(len(data)):\n",
    "        #distances = RbfKernel(data[i], data[i], var) - secondTerm(data[i], data, Z_list) + test\n",
    "        \n",
    "        distances[0][0] = RbfKernel(data[i], data[i], var) - secondTerm(data[i], data, Z_list)[0][0] + test[0][0]\n",
    "        distances[1][0] = RbfKernel(data[i], data[i], var) - secondTerm(data[i], data, Z_list)[1][0] + test[1][0]\n",
    "\n",
    "        #print(np.argmin(distances[0]))\n",
    "        print(distances)\n",
    "        if distances[0][0] > distances[1][0]:\n",
    "            print(0)\n",
    "        else:\n",
    "            print(1)\n",
    "        \n",
    "#print(distances)"
   ]
  },
  {
   "cell_type": "code",
   "execution_count": 48,
   "metadata": {},
   "outputs": [
    {
     "name": "stdout",
     "output_type": "stream",
     "text": [
      "[[1, 0], [0, 1], [1, 0], [1, 0], [0, 1], [1, 0], [1, 0], [1, 0], [0, 1], [1, 0], [1, 0], [0, 1], [1, 0], [0, 1], [1, 0], [1, 0], [1, 0], [1, 0], [1, 0], [1, 0], [0, 1], [0, 1], [0, 1], [1, 0], [1, 0], [1, 0], [1, 0], [0, 1], [0, 1], [0, 1], [0, 1], [0, 1], [0, 1], [0, 1], [0, 1], [0, 1], [0, 1], [0, 1], [1, 0], [1, 0], [0, 1], [0, 1], [0, 1], [0, 1], [0, 1], [1, 0], [1, 0], [0, 1], [1, 0], [1, 0], [1, 0], [1, 0], [1, 0], [1, 0], [0, 1], [1, 0], [0, 1], [0, 1], [1, 0], [1, 0], [1, 0], [1, 0], [0, 1], [1, 0], [1, 0], [1, 0], [0, 1], [0, 1], [0, 1], [1, 0], [0, 1], [0, 1], [0, 1], [1, 0], [1, 0], [1, 0], [0, 1], [0, 1], [1, 0], [0, 1], [1, 0], [1, 0], [0, 1], [1, 0], [0, 1], [1, 0], [0, 1], [1, 0], [1, 0], [1, 0], [0, 1], [0, 1], [0, 1], [1, 0], [1, 0], [0, 1], [0, 1], [0, 1], [1, 0], [0, 1]]\n"
     ]
    }
   ],
   "source": [
    "#ZZ=np.ones(len(data))\n",
    "#Z_pre=ZZ\n",
    "\n",
    "Z_pre=[]\n",
    "for i in range (len(data)):\n",
    "    m = random.randint(0,1)\n",
    "    Z_pre.append([m ,1-m])\n",
    "    \n",
    "\n",
    "distances = [[0],[0]]\n",
    "\n",
    "while True:\n",
    "    \n",
    "    Z_new=[]\n",
    "    for i in range (len(data)):\n",
    "        n = random.randint(0,1)\n",
    "        Z_new.append([n ,1-n])\n",
    "        \n",
    "    #Z_new=np.zeros(len(data))\n",
    "    \n",
    "    term3 = thirdTerm(data, Z_list)\n",
    "    #print(term3)\n",
    "    for i in range(len(data)):\n",
    "        #distances = RbfKernel(data[i], data[i], var) - secondTerm(data[i], data, ZZ) + term3\n",
    "        \n",
    "        distances[0][0] = RbfKernel(data[i], data[i], var) - secondTerm(data[i], data, Z_list)[0][0] + term3[0][0]\n",
    "        distances[1][0] = RbfKernel(data[i], data[i], var) - secondTerm(data[i], data, Z_list)[1][0] + term3[1][0]\n",
    "\n",
    "        if distances[0][0] < distances[1][0]:\n",
    "            Z_new[i][0] = 1\n",
    "            Z_new[i][1] = 0\n",
    "        else :\n",
    "            Z_new[i][0] = 0\n",
    "            Z_new[i][1] = 1\n",
    "        \n",
    "    if Z_pre==Z_new:\n",
    "        break\n",
    "        \n",
    "    Z_pre = deepcopy(Z_new)\n",
    "    Z_list = deepcopy(Z_new)\n",
    "    \n",
    "print(Z_list)"
   ]
  },
  {
   "cell_type": "code",
   "execution_count": 49,
   "metadata": {},
   "outputs": [
    {
     "data": {
      "image/png": "[encoded data removed]",
      "text/plain": [
       "<matplotlib.figure.Figure at 0x175f7e112b0>"
      ]
     },
     "metadata": {},
     "output_type": "display_data"
    }
   ],
   "source": [
    "k=2\n",
    "colors = ['r', 'g', 'b', 'y', 'c', 'm']\n",
    "fig, ax = plt.subplots()\n",
    "for i in range(k):\n",
    "        points = np.array([data[j] for j in range(len(data)) if Z_list[j][0] == i])\n",
    "        #points2 = np.array([data[j] for j in range(len(data)) if Z_list[j][1] == i])\n",
    "        #print(points)\n",
    "        ax.scatter(points[:, 0], points[:, 1], s=7, c=colors[i])\n",
    "        #ax.scatter(points2[:, 0], points2[:, 1], s=7, c=colors[i+2])\n",
    "        #print(len(points[:, 1]), len(points[:, 0]))\n",
    "plt.show()"
   ]
  },
  {
   "cell_type": "code",
   "execution_count": null,
   "metadata": {},
   "outputs": [],
   "source": []
  }
 ],
 "metadata": {
  "kernelspec": {
   "display_name": "Python 3",
   "language": "python",
   "name": "python3"
  },
  "language_info": {
   "codemirror_mode": {
    "name": "ipython",
    "version": 3
   },
   "file_extension": ".py",
   "mimetype": "text/x-python",
   "name": "python",
   "nbconvert_exporter": "python",
   "pygments_lexer": "ipython3",
   "version": "3.6.5"
  }
 },
 "nbformat": 4,
 "nbformat_minor": 2
}
